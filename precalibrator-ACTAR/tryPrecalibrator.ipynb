{
 "cells": [
  {
   "cell_type": "code",
   "execution_count": 5,
   "metadata": {},
   "outputs": [
    {
     "name": "stdout",
     "output_type": "stream",
     "text": [
      "ARDA ENVIRONMENT LOADED\n"
     ]
    }
   ],
   "source": [
    "import ROOT\n",
    "import numpy as np\n",
    "import pandas as pd\n",
    "import matplotlib.pyplot as plt\n",
    "from tqdm import tqdm\n",
    "\n",
    "ROOT.gROOT.ProcessLine(\".x ./rootlogon.C\")\n",
    "\n",
    "from ROOT import cPhysicalHit\n",
    "from ROOT import cPhysicalEvent\n",
    "from ROOT import MEventReduced\n",
    "\n",
    "import time\n"
   ]
  },
  {
   "cell_type": "code",
   "execution_count": 6,
   "metadata": {},
   "outputs": [],
   "source": [
    "run_f = 140\n",
    "run_l = 140"
   ]
  },
  {
   "cell_type": "code",
   "execution_count": 7,
   "metadata": {},
   "outputs": [
    {
     "name": "stdout",
     "output_type": "stream",
     "text": [
      "Treating 38747 entries\n"
     ]
    }
   ],
   "source": [
    "NPADX = 128\n",
    "NPADY = 128\n",
    "NB_COBO = 17\n",
    "NB_ASAD = 4\n",
    "NB_AGET = 4\n",
    "NB_CHANNEL = 68\n",
    "NB_SAMPLES = 512\n",
    "ONLINE_WAIT_NEWRUN = 20\n",
    "MERGE_DPT = 150\n",
    "\n",
    "\n",
    "class calCoeff:\n",
    "    m = 0.\n",
    "    q = 0.\n",
    "\n",
    "\n",
    "# dummy VDrift\n",
    "Vdrift = 1.0\n",
    "\n",
    "lT = pd.read_csv(\n",
    "    \"/home/lorenzo/Desktop/Ganil_Actar/ACTAR_ANALYSIS_LIGHT/dat/LT.dat\", sep='\\t', header=None)\n",
    "TABLE = np.array(lT.dropna(axis=1))\n",
    "\n",
    "fout = ROOT.TFile(\"pyOutputPrecal.root\", \"RECREATE\")\n",
    "if(fout.IsZombie()):\n",
    "    assert(fout.IsZombie()), \"Date provided can't be in the past\"\n",
    "\n",
    "\n",
    "fout.cd()\n",
    "outTree = ROOT.TTree(\"physicalEventTree\", \"physicalEventTree\")\n",
    "\n",
    "phEvt = cPhysicalEvent()\n",
    "outTree.Branch(\"event\", phEvt)\n",
    "outTree.SetDirectory(fout)\n",
    "outTree.AutoSave()\n",
    "\n",
    "Tree = ROOT.TChain(\"dataTree\", \"dataTree\")\n",
    "\n",
    "RUN = -10\n",
    "\n",
    "for run in range(run_f, run_l+1):\n",
    "\n",
    "    RunFile = ROOT.TString()\n",
    "    RunFile.Form(\n",
    "        f\"/home/lorenzo/Desktop/Ganil_Actar/ACTAR_ANALYSIS_LIGHT/root_e796/Tree_Run_0{run}_Merged.root\")\n",
    "    Tree.AddFile(RunFile.Data(), 0, \"ACTAR_TTree\")\n",
    "\n",
    "    RUN = run\n",
    "\n",
    "entryTotal = Tree.GetEntries()\n",
    "print(f\"Treating {Tree.GetEntries()} entries\")\n",
    "\n",
    "# ENTRIES = np.array([32, 38, 45, 60, 62, 63, 79, 81])\n",
    "\n",
    "EvtRed = MEventReduced()\n",
    "phHit = cPhysicalHit()\n",
    "\n",
    "f = ROOT.TFile.Open(\n",
    "    \"/home/lorenzo/Desktop/Ganil_Actar/ACTAR_ANALYSIS_LIGHT/root_e796/Tree_Run_0140_Merged.root\")\n",
    "f.ACTAR_TTree.SetBranchAddress(\"data\", EvtRed)\n",
    "\n",
    "itercount = 0\n",
    "\n"
   ]
  },
  {
   "cell_type": "code",
   "execution_count": 8,
   "metadata": {},
   "outputs": [
    {
     "name": "stderr",
     "output_type": "stream",
     "text": [
      "100it [00:04, 23.06it/s]\n"
     ]
    },
    {
     "name": "stdout",
     "output_type": "stream",
     "text": [
      "done\n"
     ]
    },
    {
     "name": "stderr",
     "output_type": "stream",
     "text": [
      "IncrementalExecutor::executeFunction: symbol '_ZN14cPhysicalEvent14setEventNumberEm' unresolved while linking function '_GLOBAL__sub_I_cling_module_486'!\n",
      "You are probably missing the definition of cPhysicalEvent::setEventNumber(unsigned long)\n",
      "Maybe you need to load the corresponding shared library?\n"
     ]
    }
   ],
   "source": [
    "ar1 = []\n",
    "ar2 = []\n",
    "ar3 = []\n",
    "ar4 = []\n",
    "ar5 = []\n",
    "ar6 = []\n",
    "start = time.time()\n",
    "end = time.time()\n",
    "\n",
    "for event in tqdm(f.ACTAR_TTree):\n",
    "    EvtRed = event.data\n",
    "\n",
    "    itercount += 1\n",
    "\n",
    "    # phEvt = cPhysicalEvent()\n",
    "\n",
    "    start = time.time()\n",
    "\n",
    "    phEvt.getHits().clear()\n",
    "    phEvt.setEventNumber(EvtRed.event)\n",
    "    phEvt.setTimestamp(EvtRed.timestamp)\n",
    "\n",
    "    ar1.append(time.time()-start)\n",
    "\n",
    "    for it in range(len(EvtRed.CoboAsad)):\n",
    "\n",
    "        \n",
    "        start = time.time()\n",
    "        co = EvtRed.CoboAsad[it].globalchannelid >> 11\n",
    "        asad = (EvtRed.CoboAsad[it].globalchannelid - (co << 11)) >> 9\n",
    "        ag = (EvtRed.CoboAsad[it].globalchannelid -\n",
    "              (co << 11) - (asad << 9)) >> 7\n",
    "        ch = EvtRed.CoboAsad[it].globalchannelid - \\\n",
    "            (co << 11) - (asad << 9) - (ag << 7)\n",
    "        where = co * NB_ASAD * NB_AGET * NB_CHANNEL + \\\n",
    "            asad * NB_AGET * NB_CHANNEL + ag * NB_CHANNEL + ch\n",
    "\n",
    "        ar2.append(time.time()-start)\n",
    "\n",
    "        #print(f\"{where}   {EvtRed.CoboAsad[it].globalchannelid}\")\n",
    "\n",
    "        if (co != 31 and co != 16):\n",
    "\n",
    "            for hit in range(len(EvtRed.CoboAsad[it].peakheight)):\n",
    "\n",
    "                if(TABLE[where][4] != -1 and TABLE[where][5] != -1):\n",
    "\n",
    "                    start = time.time()\n",
    "                    phHit.setGlobalChannelId(where)\n",
    "                    phHit[0] = TABLE[where][4]\n",
    "                    phHit[1] = TABLE[where][5]\n",
    "                    phHit[2] = EvtRed.CoboAsad[it].peaktime[hit] * Vdrift\n",
    "                    phHit.setEnergy(EvtRed.CoboAsad[it].peakheight[hit])\n",
    "                    phHit.setTrackable(True)\n",
    "                    ar3.append(time.time()-start)\n",
    "\n",
    "            start = time.time()\n",
    "            phEvt.getHits().push_back(phHit)\n",
    "            ar4.append(time.time()-start)\n",
    "\n",
    "    start = time.time()             \n",
    "    outTree.Fill()\n",
    "    ar5.append(time.time()-start)\n",
    "    \n",
    "    if itercount > 100:\n",
    "        break\n",
    "\n",
    "\n",
    "fout.cd()\n",
    "outTree.Write()\n",
    "\n",
    "fout.Close()\n",
    "\n",
    "print(\"done\")\n"
   ]
  },
  {
   "cell_type": "code",
   "execution_count": 14,
   "metadata": {},
   "outputs": [
    {
     "name": "stdout",
     "output_type": "stream",
     "text": [
      "0.0018179227810094852,   101, 0.183610200881958\n",
      "1.0558893287756427e-05,   111393, 1.1761868000030518\n",
      "1.4528561760289335e-05,   124452, 1.8081085681915283\n",
      "2.597869610077772e-06,   111292, 0.2891221046447754\n",
      "0.000805847715623308,   101, 0.0813906192779541\n"
     ]
    }
   ],
   "source": [
    "ar1 = np.array(ar1)\n",
    "print(f\"{ar1.mean()},   {len(ar1)}, {ar1.sum()}\")\n",
    "ar2 = np.array(ar2)\n",
    "print(f\"{ar2.mean()},   {len(ar2)}, {ar2.sum()}\")\n",
    "ar3 = np.array(ar3)\n",
    "print(f\"{ar3.mean()},   {len(ar3)}, {ar3.sum()}\")\n",
    "ar4 = np.array(ar4)\n",
    "print(f\"{ar4.mean()},   {len(ar4)}, {ar4.sum()}\")\n",
    "ar5 = np.array(ar5)\n",
    "print(f\"{ar5.mean()},   {len(ar5)}, {ar5.sum()}\")"
   ]
  },
  {
   "cell_type": "markdown",
   "metadata": {},
   "source": []
  },
  {
   "cell_type": "code",
   "execution_count": 5,
   "metadata": {},
   "outputs": [
    {
     "name": "stdout",
     "output_type": "stream",
     "text": [
      " timestamp: 748\n",
      " timestamp: 748\n",
      " timestamp: 748\n",
      " timestamp: 748\n",
      " timestamp: 748\n",
      " timestamp: 748\n",
      " timestamp: 748\n",
      " timestamp: 748\n",
      " timestamp: 748\n",
      " timestamp: 748\n",
      " timestamp: 748\n",
      " timestamp: 748\n",
      " timestamp: 748\n",
      " timestamp: 748\n",
      " timestamp: 748\n",
      " timestamp: 748\n",
      " timestamp: 748\n",
      " timestamp: 748\n",
      " timestamp: 748\n",
      " timestamp: 748\n",
      " timestamp: 748\n",
      " timestamp: 748\n"
     ]
    }
   ],
   "source": [
    "forX entry in range(entryTotal):\n",
    "    Tree.GetEntry(entry)\n",
    "\n",
    "    print(f\" timestamp: {len(EvtRed.CoboAsad)}\")\n",
    "    if(entry > 20): break"
   ]
  },
  {
   "cell_type": "code",
   "execution_count": 13,
   "metadata": {},
   "outputs": [
    {
     "name": "stdout",
     "output_type": "stream",
     "text": [
      " timestamp: 11068046444225730969\n"
     ]
    }
   ],
   "source": [
    "\n"
   ]
  },
  {
   "cell_type": "code",
   "execution_count": null,
   "metadata": {},
   "outputs": [
    {
     "data": {
      "text/plain": [
       "1553"
      ]
     },
     "execution_count": 6,
     "metadata": {},
     "output_type": "execute_result"
    }
   ],
   "source": []
  },
  {
   "cell_type": "code",
   "execution_count": null,
   "metadata": {},
   "outputs": [],
   "source": []
  },
  {
   "cell_type": "code",
   "execution_count": null,
   "metadata": {},
   "outputs": [],
   "source": []
  },
  {
   "cell_type": "code",
   "execution_count": null,
   "metadata": {},
   "outputs": [],
   "source": []
  },
  {
   "cell_type": "code",
   "execution_count": 53,
   "metadata": {},
   "outputs": [
    {
     "name": "stdout",
     "output_type": "stream",
     "text": [
      "TFile: name=pyOutputPrecal.root, title=, option=CREATE\n"
     ]
    }
   ],
   "source": [
    "#TABLE = np.zeros((6, NB_COBO * NB_ASAD * NB_AGET * NB_CHANNEL))\n",
    "#TABLE_INV = np.zeros((128, 128, 4))"
   ]
  },
  {
   "cell_type": "code",
   "execution_count": 56,
   "metadata": {},
   "outputs": [
    {
     "data": {
      "text/plain": [
       "True"
      ]
     },
     "execution_count": 56,
     "metadata": {},
     "output_type": "execute_result"
    }
   ],
   "source": [
    "outTree(\"physicalEventTree\", \"physicalEventTree\") "
   ]
  },
  {
   "cell_type": "code",
   "execution_count": null,
   "metadata": {},
   "outputs": [],
   "source": [
    "TTree outTree(\"physicalEventTree\", \"physicalEventTree\") "
   ]
  },
  {
   "cell_type": "code",
   "execution_count": 7,
   "metadata": {},
   "outputs": [
    {
     "name": "stderr",
     "output_type": "stream",
     "text": [
      "Warning in <TCanvas::Constructor>: Deleting canvas with same name: c2\n"
     ]
    },
    {
     "data": {
      "image/png": "[encoded data removed]",
      "text/plain": [
       "<IPython.core.display.Image object>"
      ]
     },
     "metadata": {},
     "output_type": "display_data"
    }
   ],
   "source": [
    "h = ROOT.TF1(\"f1\", \"sin(x)/x\", 2, 10)\n",
    "c = ROOT.TCanvas(\"c2\", \"c2\")\n",
    "h.Draw()\n",
    "c.Draw()"
   ]
  },
  {
   "cell_type": "code",
   "execution_count": null,
   "metadata": {},
   "outputs": [],
   "source": []
  }
 ],
 "metadata": {
  "kernelspec": {
   "display_name": "Python 3",
   "language": "python",
   "name": "python3"
  },
  "language_info": {
   "codemirror_mode": {
    "name": "ipython",
    "version": 3
   },
   "file_extension": ".py",
   "mimetype": "text/x-python",
   "name": "python",
   "nbconvert_exporter": "python",
   "pygments_lexer": "ipython3",
   "version": "3.8.10"
  }
 },
 "nbformat": 4,
 "nbformat_minor": 4
}
